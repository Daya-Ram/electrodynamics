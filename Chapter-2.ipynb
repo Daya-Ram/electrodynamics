{
 "cells": [
  {
   "cell_type": "markdown",
   "metadata": {},
   "source": [
    "# Chapter - 2: Electric Potential and Fields"
   ]
  },
  {
   "cell_type": "markdown",
   "metadata": {},
   "source": [
    "## 2.1 Coulomb's Law "
   ]
  },
  {
   "cell_type": "markdown",
   "metadata": {},
   "source": [
    "The ectrostatic force between two chargea $q_{1}$ and $q_{2}$ separated at distance $r$ is given by;  $F=\\frac{1}{4 \\pi \\epsilon_{\\circ}} \\frac{q_{1}q_{2}}{r^{2}}$. A basic idea to calculate the Coulomb's force between two charges separated by some distance apart is presentes below;"
   ]
  },
  {
   "cell_type": "code",
   "execution_count": 9,
   "metadata": {},
   "outputs": [
    {
     "name": "stdout",
     "output_type": "stream",
     "text": [
      "9000000000.0\n"
     ]
    }
   ],
   "source": [
    "import numpy as np\n",
    "q1=1 # in the unit of coulomb\n",
    "q2=2 \n",
    "k = 9*10**9\n",
    "r=1 # in the unit of metre \n",
    "F=k*q1*q1/r**2\n",
    "print(F) # the result is in the unit of Newton."
   ]
  },
  {
   "cell_type": "markdown",
   "metadata": {},
   "source": [
    "A more sofisticated ideas are added later."
   ]
  },
  {
   "cell_type": "markdown",
   "metadata": {},
   "source": [
    "## 2.2 Electric Field "
   ]
  },
  {
   "cell_type": "markdown",
   "metadata": {},
   "source": [
    "The electric field due to a point charge $q$ at a distance $r$ is given by; $ E = \\frac{1}{4\\pi\\epsilon_{\\circ}}\\frac{q}{r^{2}}$"
   ]
  },
  {
   "cell_type": "markdown",
   "metadata": {},
   "source": [
    "The electric field at a point due to the number of point charges at different distances can be calculate using the superposition princiole. If $E_{i}$ be the electric field at a point due to the $i^{th}$ charge, then the total electric field $E$ due to $n$ number of point charges is given as: $E=\\sum^{n}_{i=1}E_{i}=\\sum^{n}_{i=1}\\frac{1}{4\\pi\\epsilon_{\\circ}}\\frac{q_{i}}{r^{2}_{i}}$"
   ]
  },
  {
   "cell_type": "markdown",
   "metadata": {},
   "source": [
    "## 2.3 Electric Potential"
   ]
  },
  {
   "cell_type": "markdown",
   "metadata": {},
   "source": [
    "## 2.4 Electic Flux "
   ]
  },
  {
   "cell_type": "code",
   "execution_count": null,
   "metadata": {},
   "outputs": [],
   "source": []
  }
 ],
 "metadata": {
  "kernelspec": {
   "display_name": "Python 3",
   "language": "python",
   "name": "python3"
  },
  "language_info": {
   "codemirror_mode": {
    "name": "ipython",
    "version": 3
   },
   "file_extension": ".py",
   "mimetype": "text/x-python",
   "name": "python",
   "nbconvert_exporter": "python",
   "pygments_lexer": "ipython3",
   "version": "3.7.6"
  }
 },
 "nbformat": 4,
 "nbformat_minor": 4
}
